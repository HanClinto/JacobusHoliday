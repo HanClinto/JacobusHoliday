{
 "cells": [
  {
   "cell_type": "code",
   "execution_count": 110,
   "metadata": {},
   "outputs": [
    {
     "name": "stdout",
     "output_type": "stream",
     "text": [
      "Found 177 files\n"
     ]
    }
   ],
   "source": [
    "import os\n",
    "from PIL import Image\n",
    "import numpy as np\n",
    "import re\n",
    "\n",
    "data_directory = './dataset/jacobus.v5i.png-mask-semantic'\n",
    "# List all files in the data directory recursively\n",
    "\n",
    "file_list = []\n",
    "for root, dirs, files in os.walk(data_directory):\n",
    "    for file in files:\n",
    "        if file.endswith(\"_mask.png\"):\n",
    "            file_list.append(os.path.join(root, file))\n",
    "\n",
    "print(f'Found {len(file_list)} files')\n"
   ]
  },
  {
   "cell_type": "code",
   "execution_count": 111,
   "metadata": {},
   "outputs": [
    {
     "name": "stdout",
     "output_type": "stream",
     "text": [
      "Example file: ./dataset/jacobus.v5i.png-mask-semantic/valid/Hawaiian-Shirt-Man-01-Jab_mp4-4_jpg.rf.0f33a523321a01b3157ebd54ad21afa9_mask.png\n",
      "Image shape: (512, 512)\n",
      "Image dtype: uint8\n"
     ]
    },
    {
     "data": {
      "image/png": "[encoded data removed]",
      "text/plain": [
       "<Figure size 432x288 with 1 Axes>"
      ]
     },
     "metadata": {
      "needs_background": "light"
     },
     "output_type": "display_data"
    },
    {
     "name": "stdout",
     "output_type": "stream",
     "text": [
      "Unique values: [0 2 3 4 5 6]\n"
     ]
    }
   ],
   "source": [
    "test_file = file_list[0]\n",
    "\n",
    "print(f'Example file: {test_file}')\n",
    "\n",
    "# Open the file and show it\n",
    "image = Image.open(test_file)\n",
    "image_array = np.array(image)\n",
    "print(f'Image shape: {image_array.shape}')\n",
    "print(f'Image dtype: {image_array.dtype}')\n",
    "\n",
    "# Show the image\n",
    "import matplotlib.pyplot as plt\n",
    "\n",
    "plt.imshow(image_array)\n",
    "plt.show()\n",
    "\n",
    "# Show the unique values in the image\n",
    "print(f'Unique values: {np.unique(image_array)}')\n",
    "\n"
   ]
  },
  {
   "cell_type": "code",
   "execution_count": 112,
   "metadata": {},
   "outputs": [],
   "source": [
    "\n",
    "# Background: '#000000'\n",
    "# Gun: '#292929'\n",
    "# Hair: '#453211'\n",
    "# Pants: #926106\n",
    "# Shirt: #0084b0\n",
    "# Shoes: #c9c9c9\n",
    "# Skin: #ffe3b9\n",
    "\n",
    "colors_rgb = {\n",
    "    0: (0, 0, 0), # Background\n",
    "    1: (41, 41, 41), # Gun\n",
    "    2: (69, 50, 17), # Hair\n",
    "    3: (146, 97, 6), # Pants\n",
    "    4: (0, 132, 176), # Shirt\n",
    "    5: (201, 201, 201), # Shoes\n",
    "    6: (255, 227, 185), # Skin\n",
    "}\n",
    "\n",
    "# The bias that we use to prefer some colors over others\n",
    "colors_bias = {\n",
    "    0: 0.25, # Background\n",
    "    1: 4, # Gun\n",
    "    2: 2, # Hair\n",
    "    3: 1, # Pants\n",
    "    4: 1, # Shirt\n",
    "    5: 2, # Shoes\n",
    "    6: 1, # Skin\n",
    "}\n",
    "\n",
    "\n",
    "def resize_image_with_bias(input_image, dest_size=(64,64), use_bias=True):\n",
    "    orig_size = input_image.size\n",
    "    image_array = np.array(input_image)\n",
    "\n",
    "    # Shrink the image to 64x64, but each pixel uses the majority color in the 8x8 block\n",
    "\n",
    "    # Allocate a new RGB image of the destination size\n",
    "    image_sm = Image.new('RGB', dest_size)\n",
    "    image_sm_array = np.array(image_sm)\n",
    "\n",
    "    block_size_x = int(orig_size[0] / dest_size[0])\n",
    "    block_size_y = int(orig_size[1] / dest_size[1])\n",
    "\n",
    "    # Iterate over the destination image\n",
    "    for i in range(0, dest_size[0]):\n",
    "        for j in range(0, dest_size[1]):\n",
    "            # Get the 8x8 block from the source image\n",
    "            block = image_array[i * block_size_x:(i + 1) * block_size_x, j * block_size_y:(j + 1) * block_size_y]\n",
    "            # Get the unique values in the block\n",
    "            unique, counts = np.unique(block, return_counts=True)\n",
    "            if use_bias:\n",
    "                # Modify the counts by the bias for each color\n",
    "                for k in range(0, len(unique)):\n",
    "                    counts[k] = int(counts[k] * colors_bias[unique[k]])\n",
    "            \n",
    "            # Get the index of the most common value\n",
    "            most_common_index = np.argmax(counts)\n",
    "            # Set the pixel in the destination image to the most common value\n",
    "            color_rgb = colors_rgb[unique[most_common_index]]\n",
    "\n",
    "            image_sm_array[i][j] = color_rgb\n",
    "\n",
    "    # Convert the array back to an image\n",
    "    image_sm = Image.fromarray(image_sm_array)\n",
    "\n",
    "    return image_sm\n",
    "\n",
    "\n",
    "def resize_image_nearest(input_image, dest_size=(64,64)):\n",
    "    image_sm = input_image.resize(dest_size, Image.NEAREST)\n",
    "    image_sm_array = np.array(image_sm)\n",
    "\n",
    "    # Color the image according to the colors_rgb dictionary\n",
    "    image_sm_rgb = image_sm.convert('RGB')\n",
    "    image_sm_rgb_array = np.array(image_sm_rgb)\n",
    "\n",
    "    for i in range(0, 64):\n",
    "        for j in range(0, 64):\n",
    "            #print(f'[{i}][{j}] = {image_sm_array[i][j]}')\n",
    "            image_sm_rgb_array[i][j] = colors_rgb[image_sm_array[i][j]]\n",
    "\n",
    "    image_sm_rgb = Image.fromarray(image_sm_rgb_array)  \n",
    "    \n",
    "    return image_sm_rgb"
   ]
  },
  {
   "cell_type": "code",
   "execution_count": 113,
   "metadata": {},
   "outputs": [
    {
     "name": "stdout",
     "output_type": "stream",
     "text": [
      "Example file: ./dataset/jacobus.v5i.png-mask-semantic/valid/Hawaiian-Shirt-Man-01-Jab_mp4-4_jpg.rf.0f33a523321a01b3157ebd54ad21afa9_mask.png\n",
      "Original image:\n"
     ]
    },
    {
     "data": {
      "image/png": "[encoded data removed]",
      "text/plain": [
       "<Figure size 432x288 with 1 Axes>"
      ]
     },
     "metadata": {
      "needs_background": "light"
     },
     "output_type": "display_data"
    },
    {
     "name": "stdout",
     "output_type": "stream",
     "text": [
      "Nearest neighbor\n"
     ]
    },
    {
     "data": {
      "image/png": "[encoded data removed]",
      "text/plain": [
       "<Figure size 432x288 with 1 Axes>"
      ]
     },
     "metadata": {
      "needs_background": "light"
     },
     "output_type": "display_data"
    },
    {
     "name": "stdout",
     "output_type": "stream",
     "text": [
      "No bias\n"
     ]
    },
    {
     "data": {
      "image/png": "[encoded data removed]",
      "text/plain": [
       "<Figure size 432x288 with 1 Axes>"
      ]
     },
     "metadata": {
      "needs_background": "light"
     },
     "output_type": "display_data"
    },
    {
     "name": "stdout",
     "output_type": "stream",
     "text": [
      "With bias\n"
     ]
    },
    {
     "data": {
      "image/png": "[encoded data removed]",
      "text/plain": [
       "<Figure size 432x288 with 1 Axes>"
      ]
     },
     "metadata": {
      "needs_background": "light"
     },
     "output_type": "display_data"
    }
   ],
   "source": [
    "test_file = file_list[0]\n",
    "\n",
    "print(f'Example file: {test_file}')\n",
    "\n",
    "# Open the file and show it\n",
    "image = Image.open(test_file)\n",
    "image_array = np.array(image)\n",
    "\n",
    "# Shrink the image with each method\n",
    "image_sm_bias = resize_image_with_bias(image)\n",
    "image_sm_nearest = resize_image_nearest(image)\n",
    "image_sm_nobias = resize_image_with_bias(image, use_bias=False)\n",
    "\n",
    "print('Original image:')\n",
    "plt.imshow(image)\n",
    "plt.show()\n",
    "\n",
    "# Show the images\n",
    "print('Nearest neighbor')\n",
    "plt.imshow(image_sm_nearest)\n",
    "plt.show()\n",
    "\n",
    "print('No bias')\n",
    "plt.imshow(image_sm_nobias)\n",
    "plt.show()\n",
    "\n",
    "print('With bias')\n",
    "plt.imshow(image_sm_bias)\n",
    "plt.show()"
   ]
  },
  {
   "cell_type": "code",
   "execution_count": 114,
   "metadata": {},
   "outputs": [],
   "source": [
    "os.makedirs('./dataset/nearest/', exist_ok=True)\n",
    "os.makedirs('./dataset/nobias/', exist_ok=True)\n",
    "os.makedirs('./dataset/bias/', exist_ok=True)\n",
    "\n",
    "# Compile regex for finding numbers in filenames\n",
    "import re\n",
    "\n",
    "single_digit_regex = re.compile(r'-(\\d)_')\n",
    "\n",
    "for filename in file_list:\n",
    "    image = Image.open(filename)\n",
    "    # Get the filename without the directory\n",
    "    simple_filename = os.path.basename(filename)\n",
    "    # Remove the file extension\n",
    "    simple_filename = os.path.splitext(simple_filename)[0]\n",
    "\n",
    "    # Look for anything with a number like '-%d_' and convert it to have a leading zero like '-%02d_'\n",
    "    simple_filename = single_digit_regex.sub(r'-0\\1_', simple_filename)\n",
    "\n",
    "    for size in [24, 32, 48, 64, 96]:\n",
    "        os.makedirs(f'./dataset/bias_{size}/', exist_ok=True)\n",
    "        image_bias = resize_image_with_bias(image, dest_size=(size, size))\n",
    "        image_bias.save(f'./dataset/bias_{size}/' + simple_filename + '.png')\n",
    "\n",
    "    #image_nobias = resize_image_with_bias(image, use_bias=False)\n",
    "    #image_nobias.save('./dataset/nobias/' + simple_filename + '.png')\n",
    "\n",
    "    #image_nearest = resize_image_nearest(image)\n",
    "    #image_nearest.save('./dataset/nearest/' + simple_filename + '.png')\n"
   ]
  },
  {
   "cell_type": "code",
   "execution_count": 115,
   "metadata": {},
   "outputs": [
    {
     "data": {
      "image/png": "[encoded data removed]",
      "text/plain": [
       "<Figure size 432x288 with 1 Axes>"
      ]
     },
     "metadata": {
      "needs_background": "light"
     },
     "output_type": "display_data"
    }
   ],
   "source": [
    "dest_size = 64\n",
    "\n",
    "# Shrink the image to 64x64, but each pixel uses the majority color in the 8x8 block\n",
    "\n",
    "# Allocate a new RGB image of the destination size\n",
    "image_sm = Image.new('RGB', (dest_size, dest_size))\n",
    "image_sm_array = np.array(image_sm)\n",
    "\n",
    "# Iterate over the destination image\n",
    "for i in range(0, dest_size):\n",
    "    for j in range(0, dest_size):\n",
    "        # Get the 8x8 block from the source image\n",
    "        block = image_array[i*8:i*8+8, j*8:j*8+8]\n",
    "        # Get the unique values in the block\n",
    "        unique, counts = np.unique(block, return_counts=True)\n",
    "        # Modify the counts by the bias for each color\n",
    "        for k in range(0, len(unique)):\n",
    "            counts[k] = int(counts[k] * colors_bias[unique[k]])\n",
    "        # Set the count of the background to 0\n",
    "        #if unique[0] == 0:\n",
    "        #    counts[0] = counts[0] / 4\n",
    "        \n",
    "        # Get the index of the most common value\n",
    "        most_common_index = np.argmax(counts)\n",
    "        # Set the pixel in the destination image to the most common value\n",
    "        color_rgb = colors_rgb[unique[most_common_index]]\n",
    "        #print(color_rgb)\n",
    "        image_sm_array[i][j] = color_rgb\n",
    "\n",
    "# Convert the array back to an image\n",
    "image_sm = Image.fromarray(image_sm_array)\n",
    "plt.imshow(image_sm)\n",
    "plt.show()\n",
    "\n"
   ]
  }
 ],
 "metadata": {
  "kernelspec": {
   "display_name": "Python (cv)",
   "language": "python",
   "name": "cv"
  },
  "language_info": {
   "codemirror_mode": {
    "name": "ipython",
    "version": 3
   },
   "file_extension": ".py",
   "mimetype": "text/x-python",
   "name": "python",
   "nbconvert_exporter": "python",
   "pygments_lexer": "ipython3",
   "version": "3.9.7"
  },
  "orig_nbformat": 4
 },
 "nbformat": 4,
 "nbformat_minor": 2
}
